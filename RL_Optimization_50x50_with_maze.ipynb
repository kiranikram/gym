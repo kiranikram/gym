{
  "nbformat": 4,
  "nbformat_minor": 0,
  "metadata": {
    "colab": {
      "name": "RL Optimization_50x50 with maze.ipynb",
      "provenance": [],
      "collapsed_sections": [],
      "include_colab_link": true
    },
    "kernelspec": {
      "name": "python3",
      "display_name": "Python 3"
    },
    "accelerator": "GPU"
  },
  "cells": [
    {
      "cell_type": "markdown",
      "metadata": {
        "id": "view-in-github",
        "colab_type": "text"
      },
      "source": [
        "<a href=\"https://colab.research.google.com/github/kiranikram/gym/blob/master/RL_Optimization_50x50_with_maze.ipynb\" target=\"_parent\"><img src=\"https://colab.research.google.com/assets/colab-badge.svg\" alt=\"Open In Colab\"/></a>"
      ]
    },
    {
      "cell_type": "code",
      "metadata": {
        "id": "sB4tBWIdXP0A",
        "colab_type": "code",
        "outputId": "5ffd78ad-a688-48d6-8b8d-ffe97dfe557c",
        "colab": {
          "base_uri": "https://localhost:8080/",
          "height": 120
        }
      },
      "source": [
        "from google.colab import drive\n",
        "drive.mount('/content/drive', force_remount=True)"
      ],
      "execution_count": 0,
      "outputs": [
        {
          "output_type": "stream",
          "text": [
            "Go to this URL in a browser: https://accounts.google.com/o/oauth2/auth?client_id=947318989803-6bn6qk8qdgf4n4g3pfee6491hc0brc4i.apps.googleusercontent.com&redirect_uri=urn%3aietf%3awg%3aoauth%3a2.0%3aoob&response_type=code&scope=email%20https%3a%2f%2fwww.googleapis.com%2fauth%2fdocs.test%20https%3a%2f%2fwww.googleapis.com%2fauth%2fdrive%20https%3a%2f%2fwww.googleapis.com%2fauth%2fdrive.photos.readonly%20https%3a%2f%2fwww.googleapis.com%2fauth%2fpeopleapi.readonly\n",
            "\n",
            "Enter your authorization code:\n",
            "··········\n",
            "Mounted at /content/drive\n"
          ],
          "name": "stdout"
        }
      ]
    },
    {
      "cell_type": "code",
      "metadata": {
        "id": "i0WnuUDTXQ2V",
        "colab_type": "code",
        "colab": {}
      },
      "source": [
        "import sys\n",
        "sys.path.append('/content/drive/My Drive/custom_gym/Nyc_maze/custom_env_dir/envs')"
      ],
      "execution_count": 0,
      "outputs": []
    },
    {
      "cell_type": "code",
      "metadata": {
        "id": "nZdo89tiLiOY",
        "colab_type": "code",
        "colab": {}
      },
      "source": [
        "import gym\n",
        "from gym import spaces\n",
        "import matplotlib.pyplot as plt\n",
        "from abc import ABC\n",
        "from abc import abstractmethod\n",
        "#from gym_pull.envs.registration import registry, register, make, spec\n",
        "import numpy as np\n",
        "from gym.utils import seeding\n",
        "from PIL import Image\n",
        "from skimage.draw import rectangle\n",
        "from collections import namedtuple\n",
        "from custom_env import NycMaze1\n",
        "import sys\n",
        "from contextlib import closing\n",
        "from six import StringIO\n",
        "from gym import utils\n",
        "from gym.envs.toy_text import discrete\n",
        "import numpy as np\n",
        "from IPython.display import clear_output\n",
        "from IPython.display import display\n",
        "from time import sleep\n",
        "import matplotlib.image as image"
      ],
      "execution_count": 0,
      "outputs": []
    },
    {
      "cell_type": "code",
      "metadata": {
        "id": "TYmQlKkZKrle",
        "colab_type": "code",
        "colab": {}
      },
      "source": [
        "#Actions = {'North': 0, 'South': 1, 'East': 2, 'West': 3}"
      ],
      "execution_count": 0,
      "outputs": []
    },
    {
      "cell_type": "code",
      "metadata": {
        "id": "SIyD1fcZ1ehd",
        "colab_type": "code",
        "colab": {}
      },
      "source": [
        "from gym import Env, spaces\n",
        "from gym.utils import seeding\n",
        "class environment(Env):\n",
        "  def __init__(self, nS, nA, P, isd, start_state):\n",
        "    # nS = number of States\n",
        "    # na = Number of actions\n",
        "    # P = transitions \n",
        "    # isd = initial state distribution \n",
        "    self.start_state = start_state\n",
        "    self.s = start_state #change tis later to random 🤔\n",
        "    self.P = P\n",
        "    self.isd = isd\n",
        "    self.lastaction = None\n",
        "    self.nS = nS\n",
        "    self.nA = nA\n",
        "\n",
        "    self.action_space = spaces.Discrete(self.nA)\n",
        "    self.observation_space = spaces.Discrete(self.nS)\n",
        "    self.seed()\n",
        "\n",
        "  def seed(self, seed=None):\n",
        "    self.np_random, seed = seeding.np_random(seed)\n",
        "    return [seed]\n",
        "\n",
        "  def reset(self):\n",
        "    raise NotImplementedError\n",
        "\n",
        "  def step(self, a):\n",
        "    raise NotImplementedError\n"
      ],
      "execution_count": 0,
      "outputs": []
    },
    {
      "cell_type": "code",
      "metadata": {
        "id": "Y1SA7ub10xe2",
        "colab_type": "code",
        "colab": {}
      },
      "source": [
        "class driver(environment):\n",
        "  def __init__(self, **kwargs):\n",
        "    self.start = np.array([2,2])\n",
        "    self.maze = None\n",
        "\n",
        "    self.start = kwargs['start_car']\n",
        "    self.goal = kwargs['destination']\n",
        "    self.width = kwargs['block_width']\n",
        "    self.height = kwargs['block_height']\n",
        "    self.blocks = kwargs['blocks']\n",
        "    self.obstacle_width = kwargs['obstacle_width']\n",
        "    self.obstacle_height = kwargs['obstacle_height']\n",
        "\n",
        "    self.maze = self.build_maze(self.width,self.height, self.obstacle_width, self.obstacle_height, self.blocks)\n",
        "    self.set_start(self.start)\n",
        "    self.state = self.encode_state(self.start[0], self.start[1])\n",
        "    self.set_goal(self.goal)\n",
        "    self.trafic_R = None\n",
        "\n",
        "    num_states = self.width*self.height \n",
        "    self.observation_space = num_states\n",
        "    print(\"num_states\", num_states)\n",
        "    \n",
        "    num_actions = 4 #\"(N,S,E,W)\"\n",
        "    self.action_space = num_actions\n",
        "    \n",
        "    num_rows = self.width\n",
        "    num_col = self.height\n",
        "    max_rows = num_rows - 1\n",
        "    max_col = num_col - 1\n",
        "\n",
        "    self.R = {state: {action: [] for action in range(num_actions)} for state in range(num_states+1)}\n",
        "\n",
        "    initial_state_distribution = np.zeros(num_states)\n",
        "    \n",
        "    for row in range(num_rows):\n",
        "      for col in range(num_col):\n",
        "        state = self.encode_state(row,col)\n",
        "        if (row,col) != self.goal:\n",
        "          initial_state_distribution[state] += 1 #why is this necessary?\n",
        "        for action in range(num_actions):\n",
        "          new_row, new_col = row, col \n",
        "          done = False\n",
        "          reward = -1\n",
        "          car_loc = (row,col)\n",
        "          \n",
        "          #Actions = {'North': 0, 'South': 1, 'East': 2, 'West': 3}\n",
        "          if action == 0:\n",
        "            new_row = max(row - 1, 0)\n",
        "          elif action == 1:\n",
        "            new_row = min(row + 1, max_rows)\n",
        "          elif action == 2:\n",
        "            new_col = min(col + 1, max_col)\n",
        "          elif action == 3:\n",
        "            new_col = max(col - 1, 0)\n",
        "\n",
        "          if (new_row,new_col) == self.goal:\n",
        "            done = True\n",
        "            reward = 100\n",
        "          elif self.maze[new_row, new_col] == 1:\n",
        "            reward = -50 # this is a crash 🚒🚑\n",
        "\n",
        "          new_state = self.encode_state(new_row,new_col)\n",
        "          self.R[state][action].append([1,new_state,reward,done])\n",
        "    \n",
        "    initial_state_distribution /= initial_state_distribution.sum()\n",
        "    environment.__init__(self, num_states, num_actions, self.R, initial_state_distribution, self.start) \n",
        "\n",
        "  def build_maze(self,width, height, obstacle_width, obstacle_height, blocks):\n",
        "    x = np.ones([height, width], dtype=np.uint8)\n",
        "    start = (2,2)\n",
        "    end = (height-3,width -3)\n",
        "    rr, cc = rectangle(start, end, shape = x.shape)\n",
        "    x[rr, cc] = 1\n",
        "    #print(width // blocks)\n",
        "    \n",
        "    for i in range(0,width-1,(width//blocks)):\n",
        "      x[:,i] = 0\n",
        "    for i in range(0,height-1,(height//blocks)):\n",
        "      x[i,:] = 0\n",
        "    \n",
        "    x[1, :] = 0\n",
        "    x[-2, :] = 0\n",
        "    x[:, 1] = 0\n",
        "    x[:, -2] = 0\n",
        "    \n",
        "    #builds the walls\n",
        "    x[0, :] = 1\n",
        "    x[-1, :] = 1\n",
        "    x[:, 0] = 1\n",
        "    x[:, -1] = 1\n",
        "    return x\n",
        "\n",
        "  def encode_state(self,row, column):\n",
        "    #if multiple locations then encode needs to be adapted\n",
        "    i = row\n",
        "    i *= self.height\n",
        "    i += column\n",
        "    return i \n",
        "\n",
        "  def decode_state(self, state):\n",
        "    # out = [row,column]\n",
        "    out = []\n",
        "    out.append(state % self.width)\n",
        "    state = state // self.width\n",
        "    out.append(state % self.height)\n",
        "    return tuple(reversed(out))\n",
        "\n",
        "  def set_start(self, start):\n",
        "    self.maze[start] = 10\n",
        "    self.start = start\n",
        "    self.state = start\n",
        "\n",
        "  def set_goal(self,goal):\n",
        "    self.maze[goal] = 12\n",
        "    self.goal = goal\n",
        "\n",
        "  def reset(self):\n",
        "    self.state = self.encode_state(self.start[0], self.start[1])\n",
        "    return self.state\n",
        "\n",
        "  def step(self, a):\n",
        "    #print(self.state)\n",
        "    transitions = self.R[self.state][a]\n",
        "    transitions = transitions[0]\n",
        "    prob, state, reward, done = transitions[0], transitions[1], transitions[2], transitions[3]\n",
        "    return prob, state, reward, done\n",
        "\n",
        "  def render(self, trafic = [], states = []):\n",
        "    out = self.maze.copy()\n",
        "    out[np.where(out == 0)] = 2\n",
        "    out[np.where(out == 1)] = 4\n",
        "    for i in range(len(trafic)):\n",
        "      out[self.decode_state(trafic[i])] = 20\n",
        "    for i in range(len(states)):\n",
        "      out[self.decode_state(states[i])] = 5\n",
        "    #print(\"decoding state: \", self.state)\n",
        "    car_row, car_col = self.decode_state(self.state)\n",
        "    #print(\"car_row: \", car_row, \"car_col: \", car_col)\n",
        "    out[car_row][car_col] = 7\n",
        "    img = out\n",
        "    return img\n",
        "\n",
        "\n"
      ],
      "execution_count": 0,
      "outputs": []
    },
    {
      "cell_type": "code",
      "metadata": {
        "id": "tRHyHBJO48uy",
        "colab_type": "code",
        "outputId": "181c1b37-85ab-4d51-d4bb-e82ce4051dd4",
        "colab": {
          "base_uri": "https://localhost:8080/",
          "height": 203
        }
      },
      "source": [
        "block_width = 50\n",
        "block_height = 50\n",
        "blocks = 6\n",
        "start_car = ((block_height-2),1)\n",
        "destination = (1, block_width-2)\n",
        "\n",
        "environment_params = {'block_width': block_width, 'block_height': block_height, 'blocks' : blocks, 'obstacle_width': block_width - 2, 'obstacle_height': 3, 'start_car': start_car, 'destination': destination}\n",
        "env = driver(**environment_params)\n",
        "\n",
        "print(env.maze)\n",
        "print(\"Action Space '{}'\".format(env.action_space))\n",
        "print(\"State Space '{}'\".format(env.observation_space))\n"
      ],
      "execution_count": 0,
      "outputs": [
        {
          "output_type": "stream",
          "text": [
            "num_states 2500\n",
            "[[ 1  1  1 ...  1  1  1]\n",
            " [ 1  0  0 ...  0 12  1]\n",
            " [ 1  0  1 ...  1  0  1]\n",
            " ...\n",
            " [ 1  0  1 ...  1  0  1]\n",
            " [ 1 10  0 ...  0  0  1]\n",
            " [ 1  1  1 ...  1  1  1]]\n",
            "Action Space 'Discrete(4)'\n",
            "State Space 'Discrete(2500)'\n"
          ],
          "name": "stdout"
        }
      ]
    },
    {
      "cell_type": "code",
      "metadata": {
        "id": "dYmLN9KkcRy_",
        "colab_type": "code",
        "outputId": "c07cad92-f290-412c-dbbf-8cee3a3c4c0d",
        "colab": {
          "base_uri": "https://localhost:8080/",
          "height": 304
        }
      },
      "source": [
        "img = env.render()\n",
        "plt.imshow(img, cmap= 'viridis')"
      ],
      "execution_count": 0,
      "outputs": [
        {
          "output_type": "execute_result",
          "data": {
            "text/plain": [
              "<matplotlib.image.AxesImage at 0x7f5a1d4b0128>"
            ]
          },
          "metadata": {
            "tags": []
          },
          "execution_count": 34
        },
        {
          "output_type": "display_data",
          "data": {
            "image/png": "[encoded data removed]",
            "text/plain": [
              "<Figure size 432x288 with 1 Axes>"
            ]
          },
          "metadata": {
            "tags": []
          }
        }
      ]
    },
    {
      "cell_type": "code",
      "metadata": {
        "id": "BBgiLWopb1AD",
        "colab_type": "code",
        "outputId": "34c40070-237b-4bac-fb71-cecacbeb951b",
        "colab": {
          "base_uri": "https://localhost:8080/",
          "height": 493
        }
      },
      "source": [
        "if env.start == env.state:\n",
        "  print(\"we are in start position state:\", env.state)\n",
        "else:\n",
        "  print(\"state:\", env.state)\n",
        "\n",
        "\n",
        "fig, axs = plt.subplots(1,5, figsize = (15,15))\n",
        "transitions_val = []\n",
        "\n",
        "#we set a state where we are next to the goal\n",
        "print(\"\\n setting state to state next to goal\")\n",
        "state = (destination[0] + 1, destination[1])\n",
        "state = env.encode_state(state[0],state[1])\n",
        "env.state = state\n",
        "if env.start == env.state:\n",
        "  print(\"we are in start position state:\", env.state)\n",
        "else:\n",
        "  print(\"state:\", env.state)\n",
        "#print(\"destination:\",env.goal)\n",
        "#print(env.R[env.state])\n",
        "transitions_val.append(env.R[env.state])\n",
        "#print(\"transitions: \", env.R[env.state][1])\n",
        "img = env.render()\n",
        "axs[0].imshow(img)\n",
        "axs[0].set_title(\"State next to the goal\")\n",
        "\n",
        "#we set a state at a intersection to check \n",
        "print(\"\\n setting state to state at intersection\")\n",
        "intersect = block_width / blocks\n",
        "intersect = int(intersect)\n",
        "state = env.encode_state(intersect,intersect)\n",
        "env.state = state\n",
        "if env.start == env.state:\n",
        "  print(\"we are in start position state:\", env.state)\n",
        "else:\n",
        "  print(\"state:\", env.state)\n",
        "transitions_val.append(env.R[env.state])\n",
        "#print(\"destination:\",env.goal)\n",
        "#print(env.R[36])\n",
        "img = env.render()\n",
        "axs[1].imshow(img)\n",
        "axs[1].set_title(\"State at intersection\")\n",
        "\n",
        "\n",
        "#we set a state where we are chrashed in a building only acceptable action is getting out of the wall (West in this case)\n",
        "#print(\"\\n setting car crash, nooo\")\n",
        "state = env.encode_state(2,9)\n",
        "env.state = state\n",
        "if env.start == env.state:\n",
        "  print(\"we are in start position state:\", env.state)\n",
        "else:\n",
        "  print(\"state:\", env.state)\n",
        "#print(\"destination:\",env.goal)\n",
        "#print(env.R[29])\n",
        "transitions_val.append(env.R[env.state])\n",
        "img = env.render()\n",
        "axs[2].imshow(img)\n",
        "axs[2].set_title(\"State when crashed\")\n",
        "\n",
        "print(\"\\n reset environment state:\",env.reset())\n",
        "#print(\"state: \", env.state)\n",
        "img = env.render()\n",
        "transitions_val.append(env.R[env.state])\n",
        "axs[3].imshow(img)\n",
        "axs[3].set_title(\"Environment reset\")\n",
        "\n",
        "print(np.asarray(transitions_val))\n",
        "\n",
        "trafics = [(1,17),(1,18),(1,18),(1,19),(1,20),(1,21),(1,22),(1,22),(1,23),(1,24),(1,25),(1,25),(2,24),(3,24),(4,24),(5,24)]\n",
        "print(trafics[0])\n",
        "trafics_encoded = []\n",
        "for i, value in enumerate(trafics):\n",
        "  trafics_encoded.append(env.encode_state(value[0],value[1]))\n",
        "img = env.render(trafics_encoded)\n",
        "axs[4].imshow(img)\n",
        "axs[4].set_title(\"Environment with trafic\")"
      ],
      "execution_count": 0,
      "outputs": [
        {
          "output_type": "stream",
          "text": [
            "state: 2401\n",
            "\n",
            " setting state to state next to goal\n",
            "state: 148\n",
            "\n",
            " setting state to state at intersection\n",
            "state: 408\n",
            "state: 109\n",
            "\n",
            " reset environment state: 2401\n",
            "[{0: [[1, 98, 100, True]], 1: [[1, 198, -1, False]], 2: [[1, 149, -50, False]], 3: [[1, 147, -50, False]]}\n",
            " {0: [[1, 358, -1, False]], 1: [[1, 458, -1, False]], 2: [[1, 409, -1, False]], 3: [[1, 407, -1, False]]}\n",
            " {0: [[1, 59, -1, False]], 1: [[1, 159, -50, False]], 2: [[1, 110, -50, False]], 3: [[1, 108, -1, False]]}\n",
            " {0: [[1, 2351, -1, False]], 1: [[1, 2451, -50, False]], 2: [[1, 2402, -1, False]], 3: [[1, 2400, -50, False]]}]\n",
            "(1, 17)\n"
          ],
          "name": "stdout"
        },
        {
          "output_type": "execute_result",
          "data": {
            "text/plain": [
              "Text(0.5, 1.0, 'Environment with trafic')"
            ]
          },
          "metadata": {
            "tags": []
          },
          "execution_count": 35
        },
        {
          "output_type": "display_data",
          "data": {
            "image/png": "[encoded data removed]",
            "text/plain": [
              "<Figure size 1080x1080 with 5 Axes>"
            ]
          },
          "metadata": {
            "tags": []
          }
        }
      ]
    },
    {
      "cell_type": "code",
      "metadata": {
        "id": "paPc0_KPWB70",
        "colab_type": "code",
        "outputId": "465225fa-78bc-4b1a-f134-a06b8ac9160f",
        "colab": {
          "base_uri": "https://localhost:8080/",
          "height": 304
        }
      },
      "source": [
        "import copy\n",
        "############### create traffic 😤😤😤 #####################\n",
        "traffics = []\n",
        "def create_traffic(begin_row, end_row, begin_col, end_col):\n",
        "  for i in range(begin_row, end_row):\n",
        "    for j in range(begin_col, end_col):\n",
        "      if env.maze[i,j] == 0:\n",
        "        state = env.encode_state(i,j)\n",
        "        traffics.append(state)\n",
        "\n",
        "trafic_R = copy.deepcopy(env.R)\n",
        "def create_trafic_R(jam_list,reward_traffic):\n",
        "  for i, value in enumerate(jam_list):\n",
        "    traf = np.copy(value)\n",
        "    #print(\"trafic_R[value]\",trafic_R[value],\"\\n env.R\", env.R[value])\n",
        "    for i in range(4):\n",
        "      if trafic_R[value][i][0][2] == -1:\n",
        "        trafic_R[value][i][0][2] = reward_traffic\n",
        "    #print(\"traffic_R[value]\", trafic_R[value])\n",
        "  return trafic_R\n",
        "\n",
        "create_traffic(begin_row = 8, end_row = 20, begin_col = 8, end_col = 50)\n",
        "create_traffic(begin_row = 32, end_row = 41, begin_col = 0, end_col = 41)\n",
        "#create R for traffic\n",
        "trafic_R = create_trafic_R(traffics, reward_traffic = -11)\n",
        "env.trafic_R = trafic_R\n",
        "# set trafic R matrix\n",
        "img = env.render(traffics)\n",
        "plt.imshow(img)\n",
        "\n"
      ],
      "execution_count": 0,
      "outputs": [
        {
          "output_type": "execute_result",
          "data": {
            "text/plain": [
              "<matplotlib.image.AxesImage at 0x7f5a1ca8b6d8>"
            ]
          },
          "metadata": {
            "tags": []
          },
          "execution_count": 36
        },
        {
          "output_type": "display_data",
          "data": {
            "image/png": "[encoded data removed]",
            "text/plain": [
              "<Figure size 432x288 with 1 Axes>"
            ]
          },
          "metadata": {
            "tags": []
          }
        }
      ]
    },
    {
      "cell_type": "code",
      "metadata": {
        "id": "QKGGq5NsLZlA",
        "colab_type": "code",
        "outputId": "a2781843-9cf6-4508-9ea8-8f81a244a941",
        "colab": {
          "base_uri": "https://localhost:8080/",
          "height": 583
        }
      },
      "source": [
        "############### training #############\n",
        "import time\n",
        "start_time = time.time()\n",
        "from IPython.display import clear_output\n",
        "import random\n",
        "\n",
        "print( 20 * \"#\" + \" Attention resetting Q matrix \" + 20 * \"#\")\n",
        "Q = np.zeros([env.observation_space.n, env.action_space.n])\n",
        "print(\"Q matrix shape\\n\",Q.shape)\n",
        "\n",
        "alpha = 0.1\n",
        "gamma = 0.6\n",
        "epsilon = 0.5\n",
        "\n",
        "epochs = []\n",
        "penalties = []\n",
        "average_rewards = []\n",
        "steps = []\n",
        "\n",
        "print(\"start state: \", env.start, \"destination: \", env.goal)\n",
        "\n",
        "for i in range(1,10000): #change this 5 to 10001\n",
        "  state = env.reset()\n",
        "  #print(\"state\", state)\n",
        "  epochs, penalties, reward = 0,0,0\n",
        "  step_until_goal = 0\n",
        "  total_reward = 0\n",
        "  done = False\n",
        "  \n",
        "  while not done:\n",
        "    if random.uniform(0,1) < epsilon: \n",
        "      action = env.action_space.sample() # explore 🧐\n",
        "    else:\n",
        "      action = np.argmax(Q[state]) # exploit 😈\n",
        "\n",
        "    #print(\"action\", action, \"state\", env.state)\n",
        "    Prob, Next_state, Reward, Done = env.step(action)\n",
        "    #print(\"prob:\", Prob, \"Next_state: \", Next_state, \"reward: \", Reward, \"done\", Done)\n",
        "    #print(\"We have taken action '{}' and this resulted in state '{}' with a reward '{}'\".format(action, Next_state, Reward))\n",
        "\n",
        "    old_value = Q[state,action]\n",
        "    next_max = np.max(Q[Next_state])\n",
        "\n",
        "    new_value = (1 - alpha)*old_value + alpha*(Reward + gamma + next_max)\n",
        "    Q[state, action] = new_value\n",
        "    \n",
        "    if Reward == -10:\n",
        "      penalties += 1\n",
        "    total_reward += Reward\n",
        "    state = Next_state\n",
        "    env.state = state\n",
        "    epochs += 1\n",
        "    done = Done\n",
        "    step_until_goal += 1\n",
        "  \n",
        "  \n",
        "  if i % 500 == 0:\n",
        "    print(\"Reward until destination: \", total_reward/epochs, \"steps until goal\", step_until_goal)\n",
        "    average_rewards.append(total_reward/epochs)\n",
        "    steps.append(step_until_goal)\n",
        "  if i % 1000 == 0:\n",
        "    print(20 * \"#\" + \" We are Q learning rn \" + 20 * \"#\")\n",
        "\n",
        "print(20 * \"#\" + \" We Finished Q learning \" + 20 * \"#\")\n",
        "\n"
      ],
      "execution_count": 0,
      "outputs": [
        {
          "output_type": "stream",
          "text": [
            "#################### Attention resetting Q matrix ####################\n",
            "Q matrix shape\n",
            " (2500, 4)\n",
            "start state:  (48, 1) destination:  (1, 48)\n",
            "Reward until destination:  -13.519553072625698 steps until goal 716\n",
            "Reward until destination:  -15.527472527472527 steps until goal 273\n",
            "#################### We are Q learning rn ####################\n",
            "Reward until destination:  -11.949771689497718 steps until goal 219\n",
            "Reward until destination:  -14.730627306273062 steps until goal 271\n",
            "#################### We are Q learning rn ####################\n",
            "Reward until destination:  -15.79496402877698 steps until goal 278\n",
            "Reward until destination:  -13.143410852713178 steps until goal 258\n",
            "#################### We are Q learning rn ####################\n",
            "Reward until destination:  -15.047826086956523 steps until goal 230\n",
            "Reward until destination:  -14.289285714285715 steps until goal 280\n",
            "#################### We are Q learning rn ####################\n",
            "Reward until destination:  -14.486792452830189 steps until goal 265\n",
            "Reward until destination:  -13.902027027027026 steps until goal 296\n",
            "#################### We are Q learning rn ####################\n",
            "Reward until destination:  -12.261061946902656 steps until goal 226\n",
            "Reward until destination:  -14.305825242718447 steps until goal 206\n",
            "#################### We are Q learning rn ####################\n",
            "Reward until destination:  -13.462962962962964 steps until goal 216\n",
            "Reward until destination:  -14.436090225563909 steps until goal 266\n",
            "#################### We are Q learning rn ####################\n",
            "Reward until destination:  -14.094650205761317 steps until goal 243\n",
            "Reward until destination:  -11.719047619047618 steps until goal 210\n",
            "#################### We are Q learning rn ####################\n",
            "Reward until destination:  -13.236607142857142 steps until goal 224\n",
            "Reward until destination:  -15.30722891566265 steps until goal 332\n",
            "#################### We are Q learning rn ####################\n",
            "Reward until destination:  -16.226148409893995 steps until goal 283\n",
            "#################### We Finished Q learning ####################\n"
          ],
          "name": "stdout"
        }
      ]
    },
    {
      "cell_type": "code",
      "metadata": {
        "id": "nLjQYCfU2TVG",
        "colab_type": "code",
        "outputId": "bf48ef6a-231d-447f-e822-a859931f6f84",
        "colab": {
          "base_uri": "https://localhost:8080/",
          "height": 104
        }
      },
      "source": [
        "\"\"\"Evaluate agent's performance after Q-learning\"\"\"\n",
        "total_epochs, total_penalties = 0, 0\n",
        "episodes = 1\n",
        "frames = []\n",
        "states_eval = []\n",
        "for _ in range(episodes):\n",
        "    state = env.reset()\n",
        "    epochs, penalties, reward = 0, 0, 0\n",
        "    reward_until_goal = 0\n",
        "    done = False\n",
        "    while not done:\n",
        "        action = np.argmax(Q[state])\n",
        "        Prob, Next_state, Reward, Done = env.step(action)\n",
        "        if Reward == -10:\n",
        "          penalties += 1\n",
        "        state = Next_state\n",
        "        states_eval.append(state)\n",
        "        env.state = Next_state\n",
        "        done = Done\n",
        "        epochs += 1\n",
        "        reward += Reward\n",
        "        frames.append({'frame': env.render(states_eval), 'state': state, 'action': action, 'reward': reward})\n",
        "    reward_until_goal += (reward/epochs)\n",
        "    print(\"reached goal\")\n",
        "    total_epochs += epochs\n",
        "    total_penalties += penalties\n",
        "\n",
        "print(\"average reward until goal: \", reward_until_goal/episodes)\n",
        "print(f\"Average timesteps per episode: {total_epochs / episodes}\")\n",
        "print(f\"Average penalties per episode: {total_penalties / episodes}\")"
      ],
      "execution_count": 0,
      "outputs": [
        {
          "output_type": "stream",
          "text": [
            "reached goal\n",
            "average reward until goal:  0.07446808510638298\n",
            "Average timesteps per episode: 94.0\n",
            "Average penalties per episode: 0.0\n"
          ],
          "name": "stdout"
        }
      ]
    },
    {
      "cell_type": "code",
      "metadata": {
        "id": "YLGJH1AsD9fK",
        "colab_type": "code",
        "colab": {}
      },
      "source": [
        " def print_frames(frames):\n",
        "  steps = 0\n",
        "  for i, frame in enumerate(frames):\n",
        "    if i % 6 == 0:\n",
        "      clear_output(wait = True)\n",
        "      print(f\"Timestep: {i + 1}\")\n",
        "      print(f\"State: {frame['state']}\")\n",
        "      print(f\"Action: {frame['action']}\")\n",
        "      print(f\"Reward: {frame['reward']}\")\n",
        "      plt.imshow(frame['frame'])\n",
        "      plt.show()\n",
        "      sleep(1)\n",
        "    steps += 1\n",
        "    if env.decode_state(frame['state']) == env.goal:\n",
        "      steps +=1\n",
        "      print(\"we reached our goal\")\n",
        "      print(f\"State: {frame['state']}\")\n",
        "      print(f\"Action: {frame['action']}\")\n",
        "      print(f\"Reward: {frame['reward']}\")\n",
        "      print(f\"With: {steps} steps\")\n",
        "      plt.imshow(frame['frame'])\n",
        "      plt.show()\n",
        "      sleep(1)\n",
        "\n",
        "    \n",
        "#print_frames(frames)"
      ],
      "execution_count": 0,
      "outputs": []
    },
    {
      "cell_type": "code",
      "metadata": {
        "id": "ZGtPkqLLakWQ",
        "colab_type": "code",
        "outputId": "fe29af4d-4a2a-42a7-9b98-16fcb0496fb6",
        "colab": {
          "base_uri": "https://localhost:8080/",
          "height": 880
        }
      },
      "source": [
        "################## train with traffic ##################\n",
        "\n",
        "alpha = 0.1\n",
        "gamma = 0.8\n",
        "epsilon = 0.5\n",
        "\n",
        "epochs = []\n",
        "penalties = []\n",
        "average_rewards = []\n",
        "steps = []\n",
        "Traffic = True\n",
        "env.trafic_R = trafic_R\n",
        "print(\"start state: \", env.start, \"destination: \", env.goal)\n",
        "for i in range(1,10000): #change this 5 to 10001\n",
        "  if Traffic == True:\n",
        "    env.R = env.trafic_R\n",
        "  state = env.reset()\n",
        "  #print(\"state\", state)\n",
        "  epochs, penalties, reward = 0,0,0\n",
        "  step_until_goal = 0\n",
        "  total_reward = 0\n",
        "  done = False\n",
        "  \n",
        "  while not done:\n",
        "    if random.uniform(0,1) < epsilon: \n",
        "      action = env.action_space.sample() # explore 🧐\n",
        "    else:\n",
        "      action = np.argmax(Q[state]) # exploit 😈\n",
        "\n",
        "    #print(\"action\", action, \"state\", env.state)\n",
        "    Prob, Next_state, Reward, Done = env.step(action)\n",
        "    #print(\"prob:\", Prob, \"Next_state: \", Next_state, \"reward: \", Reward, \"done\", Done)\n",
        "    #print(\"We have taken action '{}' and this resulted in state '{}' with a reward '{}'\".format(action, Next_state, Reward))\n",
        "\n",
        "    old_value = Q[state,action]\n",
        "    next_max = np.max(Q[Next_state])\n",
        "\n",
        "    #if state in traffics:\n",
        "      #print(\"We are stuck in a trafic jam please help\")\n",
        "    #  Reward = -6\n",
        "\n",
        "    new_value = (1 - alpha)*old_value + alpha*(Reward + gamma + next_max)\n",
        "    Q[state, action] = new_value\n",
        "    \n",
        "    if Reward == -10:\n",
        "      penalties += 1\n",
        "    total_reward += Reward\n",
        "    state = Next_state\n",
        "    env.state = state\n",
        "    epochs += 1\n",
        "    done = Done\n",
        "    step_until_goal += 1\n",
        "  \n",
        "  \n",
        "  if i % 250 == 0:\n",
        "    print(\"Reward until destination: \", total_reward/epochs, \"steps until goal\", step_until_goal)\n",
        "    average_rewards.append(total_reward/epochs)\n",
        "    steps.append(step_until_goal)\n",
        "  if i % 1000 == 0:\n",
        "    print(20 * \"#\" + \" We Q learning rn \" + 20 * \"#\")\n",
        "\n",
        "print(20 * \"#\" + \" We Finished Q learning \" + 20 * \"#\")\n",
        "average_steps = np.sum(steps)/len(steps)\n",
        "print(\"average steps\",average_steps)\n",
        "\n"
      ],
      "execution_count": 0,
      "outputs": [
        {
          "output_type": "stream",
          "text": [
            "start state:  (48, 1) destination:  (1, 48)\n",
            "Reward until destination:  -15.609098567818029 steps until goal 3561\n",
            "Reward until destination:  -14.351194786386676 steps until goal 1381\n",
            "Reward until destination:  -16.915673693858846 steps until goal 1091\n",
            "Reward until destination:  -15.232558139534884 steps until goal 645\n",
            "#################### We Q learning rn ####################\n",
            "Reward until destination:  -16.46474358974359 steps until goal 624\n",
            "Reward until destination:  -15.006535947712418 steps until goal 612\n",
            "Reward until destination:  -15.597682119205299 steps until goal 604\n",
            "Reward until destination:  -15.52280701754386 steps until goal 570\n",
            "#################### We Q learning rn ####################\n",
            "Reward until destination:  -17.020676691729324 steps until goal 532\n",
            "Reward until destination:  -13.970338983050848 steps until goal 472\n",
            "Reward until destination:  -13.195652173913043 steps until goal 506\n",
            "Reward until destination:  -14.886973180076629 steps until goal 522\n",
            "#################### We Q learning rn ####################\n",
            "Reward until destination:  -14.819502074688797 steps until goal 482\n",
            "Reward until destination:  -17.838541666666668 steps until goal 576\n",
            "Reward until destination:  -15.01830282861897 steps until goal 601\n",
            "Reward until destination:  -14.061111111111112 steps until goal 540\n",
            "#################### We Q learning rn ####################\n",
            "Reward until destination:  -16.672619047619047 steps until goal 672\n",
            "Reward until destination:  -14.341417910447761 steps until goal 536\n",
            "Reward until destination:  -14.708674304418984 steps until goal 611\n",
            "Reward until destination:  -14.380794701986755 steps until goal 604\n",
            "#################### We Q learning rn ####################\n",
            "Reward until destination:  -15.553480475382003 steps until goal 589\n",
            "Reward until destination:  -15.18095238095238 steps until goal 525\n",
            "Reward until destination:  -14.812 steps until goal 500\n",
            "Reward until destination:  -14.44253859348199 steps until goal 583\n",
            "#################### We Q learning rn ####################\n",
            "Reward until destination:  -16.00841750841751 steps until goal 594\n",
            "Reward until destination:  -11.548076923076923 steps until goal 520\n",
            "Reward until destination:  -17.07155322862129 steps until goal 573\n",
            "Reward until destination:  -14.89864864864865 steps until goal 444\n",
            "#################### We Q learning rn ####################\n",
            "Reward until destination:  -17.112396694214876 steps until goal 605\n",
            "Reward until destination:  -17.243523316062177 steps until goal 579\n",
            "Reward until destination:  -13.244094488188976 steps until goal 508\n",
            "Reward until destination:  -13.444672131147541 steps until goal 488\n",
            "#################### We Q learning rn ####################\n",
            "Reward until destination:  -14.605555555555556 steps until goal 540\n",
            "Reward until destination:  -16.366459627329192 steps until goal 644\n",
            "Reward until destination:  -15.856152512998268 steps until goal 577\n",
            "Reward until destination:  -14.821969696969697 steps until goal 528\n",
            "#################### We Q learning rn ####################\n",
            "Reward until destination:  -14.090909090909092 steps until goal 550\n",
            "Reward until destination:  -13.290874524714829 steps until goal 526\n",
            "Reward until destination:  -13.823636363636364 steps until goal 550\n",
            "#################### We Finished Q learning ####################\n",
            "average steps 670.8974358974359\n"
          ],
          "name": "stdout"
        }
      ]
    },
    {
      "cell_type": "code",
      "metadata": {
        "id": "ZYS_awtF2Tja",
        "colab_type": "code",
        "outputId": "482fba6c-32b7-490e-9502-f2f84067ec21",
        "colab": {
          "base_uri": "https://localhost:8080/",
          "height": 104
        }
      },
      "source": [
        "#### evaluate with traffic ######\n",
        "total_epochs, total_penalties = 0, 0\n",
        "episodes = 1\n",
        "frames = []\n",
        "for _ in range(episodes):\n",
        "    state = env.reset()\n",
        "    epochs, penalties, reward = 0, 0, 0\n",
        "    reward_until_goal = 0\n",
        "    done = False\n",
        "    states_eval = []\n",
        "    while not done:\n",
        "        action = np.argmax(Q[state])\n",
        "        Prob, Next_state, Reward, Done = env.step(action)\n",
        "        if Reward == -10:\n",
        "          penalties += 1\n",
        "        state = Next_state\n",
        "        states_eval.append(state)\n",
        "        env.state = Next_state\n",
        "        done = Done\n",
        "        epochs += 1\n",
        "        reward += Reward\n",
        "        frames.append({'frame': env.render(traffics,states_eval), 'state': state, 'action': action, 'reward': reward})\n",
        "    reward_until_goal += (reward/epochs)\n",
        "    print(\"reached goal\")\n",
        "    total_epochs += epochs\n",
        "    total_penalties += penalties\n",
        "\n",
        "print(\"average reward until goal: \", reward_until_goal/episodes)\n",
        "print(f\"Average timesteps per episode: {total_epochs / episodes}\")\n",
        "print(f\"Average penalties per episode: {total_penalties / episodes}\")"
      ],
      "execution_count": 0,
      "outputs": [
        {
          "output_type": "stream",
          "text": [
            "reached goal\n",
            "average reward until goal:  -0.4627659574468085\n",
            "Average timesteps per episode: 188.0\n",
            "Average penalties per episode: 0.0\n"
          ],
          "name": "stdout"
        }
      ]
    },
    {
      "cell_type": "code",
      "metadata": {
        "id": "_rdCkJAWMcol",
        "colab_type": "code",
        "outputId": "da342cff-999c-4007-fc50-92d18619f177",
        "colab": {
          "base_uri": "https://localhost:8080/",
          "height": 686
        }
      },
      "source": [
        "print_frames(frames)"
      ],
      "execution_count": 0,
      "outputs": [
        {
          "output_type": "stream",
          "text": [
            "Timestep: 187\n",
            "State: 97\n",
            "Action: 2\n",
            "Reward: -187\n"
          ],
          "name": "stdout"
        },
        {
          "output_type": "display_data",
          "data": {
            "image/png": "[encoded data removed]",
            "text/plain": [
              "<Figure size 432x288 with 1 Axes>"
            ]
          },
          "metadata": {
            "tags": []
          }
        },
        {
          "output_type": "stream",
          "text": [
            "we reached our goal\n",
            "State: 98\n",
            "Action: 2\n",
            "Reward: -87\n",
            "With: 189 steps\n"
          ],
          "name": "stdout"
        },
        {
          "output_type": "display_data",
          "data": {
            "image/png": "[encoded data removed]",
            "text/plain": [
              "<Figure size 432x288 with 1 Axes>"
            ]
          },
          "metadata": {
            "tags": []
          }
        }
      ]
    },
    {
      "cell_type": "code",
      "metadata": {
        "id": "PSEM4vPHM3-S",
        "colab_type": "code",
        "colab": {}
      },
      "source": [
        ""
      ],
      "execution_count": 0,
      "outputs": []
    }
  ]
}